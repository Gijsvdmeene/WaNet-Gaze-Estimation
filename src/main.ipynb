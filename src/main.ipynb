{
 "cells": [
  {
   "cell_type": "code",
   "execution_count": 1,
   "metadata": {},
   "outputs": [],
   "source": [
    "# Imports.\n",
    "import torch\n",
    "import torch.nn as nn\n",
    "import torch.optim as optim\n",
    "from torch.utils.data import DataLoader, random_split\n",
    "from torchvision import models, transforms\n",
    "from torchvision.datasets import ImageFolder\n",
    "import torch.nn.functional as F\n",
    "import torchvision.utils as utils\n",
    "import kornia.augmentation as A\n",
    "import matplotlib.pyplot as plt\n",
    "from datetime import datetime\n",
    "\n",
    "\n",
    "from tqdm import tqdm\n",
    "import random\n",
    "import json\n",
    "from NormGazeData import NormGazeData\n",
    "import numpy as np\n",
    "import os"
   ]
  },
  {
   "cell_type": "code",
   "execution_count": 3,
   "metadata": {},
   "outputs": [],
   "source": [
    "# Define the regression model with ResNet18 as a feature extractor\n",
    "class RegressionResNet(nn.Module):\n",
    "    def __init__(self):\n",
    "        super(RegressionResNet, self).__init__()\n",
    "        resnet = models.resnet18(pretrained=True)\n",
    "        self.features = nn.Sequential(*list(resnet.children())[:-1])\n",
    "        self.fc = nn.Linear(resnet.fc.in_features, 2)\n",
    "\n",
    "    def forward(self, x):\n",
    "        x = self.features(x)\n",
    "        x = torch.flatten(x, 1)\n",
    "        x = self.fc(x)\n",
    "        return x"
   ]
  },
  {
   "cell_type": "code",
   "execution_count": 4,
   "metadata": {},
   "outputs": [
    {
     "name": "stdout",
     "output_type": "stream",
     "text": [
      "Getting 1/16\n",
      "Getting 2/16\n",
      "Getting 3/16\n",
      "Getting 4/16\n",
      "Getting 5/16\n",
      "Getting 6/16\n",
      "Getting 7/16\n",
      "Getting 8/16\n",
      "Getting 9/16\n",
      "Getting 10/16\n",
      "Getting 11/16\n",
      "Getting 12/16\n",
      "Getting 13/16\n",
      "Getting 14/16\n",
      "Getting 15/16\n",
      "Len data = 45000\n"
     ]
    }
   ],
   "source": [
    "# Set data path.\n",
    "ROOT_DIR =  os.path.dirname(os.path.abspath(os.curdir)) \n",
    "DATA_PATH = f\"{ROOT_DIR}/data/normalized\"\n",
    "dataset = NormGazeData(data_path=DATA_PATH)"
   ]
  },
  {
   "cell_type": "code",
   "execution_count": 5,
   "metadata": {},
   "outputs": [],
   "source": [
    "# Method for showing and saving plots of the training process.\n",
    "def plot_and_save(run, filepath=f\"{ROOT_DIR}/tmp/plots/\"):\n",
    "    # Extract output and parameters from run details.\n",
    "    degrees = run[\"degrees\"]\n",
    "    parameters = run[\"parameters\"]\n",
    "    \n",
    "    # Create the plot\n",
    "    plt.figure(figsize=(10, 5))\n",
    "    plt.plot(range(1, len(degrees) + 1), degrees, marker='o', label='Average Degree Error')\n",
    "    plt.xticks(range(1, len(degrees) + 1))\n",
    "\n",
    "    plt.xlabel(\"Epoch\")\n",
    "    plt.ylabel(\"Average Degree Error\")\n",
    "    \n",
    "    # Create the legend string from parameters\n",
    "    param_str = '\\n'.join([f'{key}: {value}' for key, value in parameters.items()])\n",
    "    plt.legend([param_str], loc='upper right')\n",
    "    \n",
    "    now = datetime.now()\n",
    "    dt_string = now.strftime(\"%Y%m%d_%H%M%S\")\n",
    "    filename = f\"{filepath}{dt_string}\"  \n",
    "     \n",
    "    # Save the plot\n",
    "    try:\n",
    "        os.makedirs(filepath)\n",
    "    except FileExistsError:\n",
    "        pass\n",
    "        \n",
    "    plt.title(\"Training Error over Epochs\")\n",
    "    plt.grid(True)\n",
    "    plt.savefig(filename)\n",
    "    \n",
    "    plt.show()\n",
    "    plt.close()\n",
    "    "
   ]
  },
  {
   "cell_type": "code",
   "execution_count": 6,
   "metadata": {},
   "outputs": [],
   "source": [
    "# Calculates mean angular error between predicted and target outcome of a batch.\n",
    "def degree_accuracy(samples, targets):\n",
    "    # Predicted yaw and pitch\n",
    "    predicted_yaw = samples[:, 0]\n",
    "    predicted_pitch = samples[:, 1]\n",
    "    # Actual yaw and pitch\n",
    "    target_yaw = targets[:, 0]\n",
    "    target_pitch = targets[:, 1]\n",
    "\n",
    "    # Decompose yaw and pitch, subtract and calculate smallest angular error for each.\n",
    "    angular_error_yaw = torch.atan2(torch.sin(predicted_yaw - target_yaw), torch.cos(predicted_yaw - target_yaw))\n",
    "    angular_error_pitch = torch.atan2(torch.sin(predicted_pitch - target_pitch), torch.cos(predicted_pitch - target_pitch))\n",
    "\n",
    "    # Convert radians to degrees.\n",
    "    angular_error_yaw = torch.rad2deg(angular_error_yaw)\n",
    "    angular_error_pitch = torch.rad2deg(angular_error_pitch)\n",
    "    \n",
    "    # Combine yaw and pitch.\n",
    "    combined_angular_error = torch.sqrt(angular_error_yaw ** 2 + angular_error_pitch ** 2)\n",
    "\n",
    "    # Average over batch.\n",
    "    mean_combined_angular_error = torch.mean(combined_angular_error)\n",
    "    \n",
    "    return mean_combined_angular_error"
   ]
  },
  {
   "cell_type": "code",
   "execution_count": 7,
   "metadata": {},
   "outputs": [],
   "source": [
    "# Clean training method.\n",
    "def train(model, optimizer, criterion, train_loader, device, num_epochs=5, lr_multiplier=5):\n",
    "    degrees = []\n",
    "    \n",
    "    # Train loop\n",
    "    for epoch in range(num_epochs):\n",
    "        model.train()\n",
    "        running_loss = 0.0\n",
    "        diffs = []\n",
    "        for samples, targets in tqdm(train_loader):\n",
    "            # Move data to device.\n",
    "            samples, targets = samples.to(device), targets.to(device)\n",
    "            \n",
    "            optimizer.zero_grad()\n",
    "            \n",
    "            # Forward, calculate loss, backpropagation.\n",
    "            outputs = model(samples) \n",
    "            loss = criterion(outputs, targets)\n",
    "            loss.backward()\n",
    "            \n",
    "            # Optimize and append results.\n",
    "            optimizer.step() \n",
    "            running_loss += loss.item() * samples.size(0)\n",
    "            diff = degree_accuracy(outputs, targets)\n",
    "            diffs.append(diff)\n",
    "        \n",
    "        # Manual learning rate scheduler because I couldn't get it to work otherwise.\n",
    "        for param_group in optimizer.param_groups:\n",
    "            param_group['lr'] /= ((epoch + 1) / (num_epochs + 1)) * lr_multiplier\n",
    "            \n",
    "        # Saving and printing results.\n",
    "        degrees.append(float(sum(diffs) / len(diffs)))\n",
    "        epoch_loss = running_loss / len(train_loader.dataset)\n",
    "        print(f\"Epoch {epoch+1}/{num_epochs}, Loss: {epoch_loss:.4f} - Degree: {sum(diffs) / len(diffs)}\")\n",
    "    \n",
    "    return degrees"
   ]
  },
  {
   "cell_type": "code",
   "execution_count": 8,
   "metadata": {},
   "outputs": [
    {
     "name": "stdout",
     "output_type": "stream",
     "text": [
      "True\n"
     ]
    }
   ],
   "source": [
    "# Set seed for reproducibility\n",
    "seed = 42\n",
    "torch.manual_seed(seed)\n",
    "np.random.seed(seed)\n",
    "\n",
    "# Set global parameters\n",
    "num_workers = 2\n",
    "batch_size = 100\n",
    "num_epochs = 8\n",
    "lr_multiplier = 7\n",
    "lr = 0.0001\n",
    "\n",
    "# Set device.\n",
    "device = torch.device(\"cuda\" if torch.cuda.is_available() else \"cpu\")\n",
    "print(torch.cuda.is_available())\n",
    "\n",
    "# Train/test split and create respective data loaders.\n",
    "train_proportion = 0.8\n",
    "test_proportion = 1 - train_proportion\n",
    "\n",
    "train_size = int(train_proportion * len(dataset))\n",
    "test_size = len(dataset) - train_size\n",
    "\n",
    "train_dataset, test_dataset = random_split(dataset, [train_size, test_size])\n",
    "\n",
    "train_loader = DataLoader(train_dataset, batch_size=batch_size, shuffle=False)\n",
    "test_loader = DataLoader(test_dataset, batch_size=batch_size, shuffle=False)"
   ]
  },
  {
   "cell_type": "code",
   "execution_count": 9,
   "metadata": {},
   "outputs": [
    {
     "name": "stderr",
     "output_type": "stream",
     "text": [
      "c:\\Users\\Gijs\\OneDrive - Delft University of Technology\\TUdelft\\cse_3\\research_project\\.venv\\Lib\\site-packages\\torchvision\\models\\_utils.py:208: UserWarning: The parameter 'pretrained' is deprecated since 0.13 and may be removed in the future, please use 'weights' instead.\n",
      "  warnings.warn(\n",
      "c:\\Users\\Gijs\\OneDrive - Delft University of Technology\\TUdelft\\cse_3\\research_project\\.venv\\Lib\\site-packages\\torchvision\\models\\_utils.py:223: UserWarning: Arguments other than a weight enum or `None` for 'weights' are deprecated since 0.13 and may be removed in the future. The current behavior is equivalent to passing `weights=ResNet18_Weights.IMAGENET1K_V1`. You can also use `weights=ResNet18_Weights.DEFAULT` to get the most up-to-date weights.\n",
      "  warnings.warn(msg)\n",
      "100%|██████████| 360/360 [06:52<00:00,  1.15s/it]\n"
     ]
    },
    {
     "name": "stdout",
     "output_type": "stream",
     "text": [
      "Epoch 1/8, Loss: 0.0900 - Degree: 8.157553672790527\n"
     ]
    },
    {
     "name": "stderr",
     "output_type": "stream",
     "text": [
      "100%|██████████| 360/360 [07:07<00:00,  1.19s/it]\n"
     ]
    },
    {
     "name": "stdout",
     "output_type": "stream",
     "text": [
      "Epoch 2/8, Loss: 0.0406 - Degree: 3.6576013565063477\n"
     ]
    },
    {
     "name": "stderr",
     "output_type": "stream",
     "text": [
      "100%|██████████| 360/360 [07:02<00:00,  1.17s/it]\n"
     ]
    },
    {
     "name": "stdout",
     "output_type": "stream",
     "text": [
      "Epoch 3/8, Loss: 0.0330 - Degree: 2.9773364067077637\n"
     ]
    },
    {
     "name": "stderr",
     "output_type": "stream",
     "text": [
      "100%|██████████| 360/360 [07:02<00:00,  1.17s/it]\n"
     ]
    },
    {
     "name": "stdout",
     "output_type": "stream",
     "text": [
      "Epoch 4/8, Loss: 0.0256 - Degree: 2.3223609924316406\n"
     ]
    },
    {
     "name": "stderr",
     "output_type": "stream",
     "text": [
      "100%|██████████| 360/360 [07:07<00:00,  1.19s/it]\n"
     ]
    },
    {
     "name": "stdout",
     "output_type": "stream",
     "text": [
      "Epoch 5/8, Loss: 0.0214 - Degree: 1.9446507692337036\n"
     ]
    },
    {
     "name": "stderr",
     "output_type": "stream",
     "text": [
      "100%|██████████| 360/360 [07:02<00:00,  1.17s/it]\n"
     ]
    },
    {
     "name": "stdout",
     "output_type": "stream",
     "text": [
      "Epoch 6/8, Loss: 0.0192 - Degree: 1.7532657384872437\n"
     ]
    },
    {
     "name": "stderr",
     "output_type": "stream",
     "text": [
      "100%|██████████| 360/360 [07:15<00:00,  1.21s/it]\n"
     ]
    },
    {
     "name": "stdout",
     "output_type": "stream",
     "text": [
      "Epoch 7/8, Loss: 0.0183 - Degree: 1.6752463579177856\n"
     ]
    },
    {
     "name": "stderr",
     "output_type": "stream",
     "text": [
      "100%|██████████| 360/360 [07:14<00:00,  1.21s/it]\n"
     ]
    },
    {
     "name": "stdout",
     "output_type": "stream",
     "text": [
      "Epoch 8/8, Loss: 0.0180 - Degree: 1.6504874229431152\n"
     ]
    }
   ],
   "source": [
    "criterion = nn.L1Loss()\n",
    "model = RegressionResNet().to(device)\n",
    "optimizer = optim.Adam(model.parameters(), lr=lr)\n",
    "\n",
    "degrees = train(model, optimizer, criterion, train_loader, device, num_epochs, lr_multiplier=lr_multiplier)"
   ]
  },
  {
   "cell_type": "code",
   "execution_count": 10,
   "metadata": {},
   "outputs": [
    {
     "data": {
      "image/png": "[encoded data removed]",
      "text/plain": [
       "<Figure size 1000x500 with 1 Axes>"
      ]
     },
     "metadata": {},
     "output_type": "display_data"
    }
   ],
   "source": [
    "# Plot and save the training run.\n",
    "filepath = f\"{ROOT_DIR}/tmp/plots/clean/\"\n",
    "parameters = {\n",
    "    \"lr\": lr,\n",
    "    \"lr_multiplier\": lr_multiplier,\n",
    "    \"batch_size\": batch_size,\n",
    "    \"train_size\": train_size\n",
    "}\n",
    "train_obj = {\n",
    "    \"degrees\": degrees,\n",
    "    \"parameters\": parameters\n",
    "}\n",
    "\n",
    "try:\n",
    "    with open(f\"{filepath}/clean_train_results.txt\", \"a+\") as f:\n",
    "        json_str = json.dumps(train_obj, indent=2)\n",
    "        f.write(f\"{json_str}\\n\\n\")\n",
    "        \n",
    "except Exception as e:\n",
    "    print(e)\n",
    "\n",
    "\n",
    "plot_and_save(train_obj, filepath=filepath)"
   ]
  },
  {
   "cell_type": "code",
   "execution_count": 11,
   "metadata": {},
   "outputs": [
    {
     "name": "stderr",
     "output_type": "stream",
     "text": [
      "100%|██████████| 90/90 [00:52<00:00,  1.72it/s]"
     ]
    },
    {
     "name": "stdout",
     "output_type": "stream",
     "text": [
      "Test Loss: 0.0222 - Degree: 2.0076\n"
     ]
    },
    {
     "name": "stderr",
     "output_type": "stream",
     "text": [
      "\n"
     ]
    }
   ],
   "source": [
    "# Evaluation function\n",
    "def evaluate(model, test_loader, criterion, device):\n",
    "    model.eval()  # Set the model to evaluation mode\n",
    "    running_loss = 0.0\n",
    "    diffs = []\n",
    "    with torch.no_grad():  # Disable gradient calculation for evaluation\n",
    "        for samples, targets in tqdm(test_loader):\n",
    "            # Move data to device\n",
    "            samples, targets = samples.to(device), targets.to(device)\n",
    "            \n",
    "            # Forward and calulate loss.\n",
    "            outputs = model(samples)  \n",
    "            loss = criterion(outputs, targets) \n",
    "            \n",
    "            # Save results.\n",
    "            running_loss += loss.item() * samples.size(0)\n",
    "            diff = degree_accuracy(outputs, targets)\n",
    "            diffs.append(diff)\n",
    "    \n",
    "    # Saving, printing\n",
    "    epoch_loss = running_loss / len(test_loader.dataset)\n",
    "    avg_diff = sum(diffs) / len(diffs)\n",
    "    print(f\"Test Loss: {epoch_loss:.4f} - Degree: {avg_diff:.4f}\")\n",
    "    return epoch_loss, avg_diff\n",
    "\n",
    "test_loss, test_diff = evaluate(model, test_loader, criterion, device)"
   ]
  },
  {
   "cell_type": "code",
   "execution_count": null,
   "metadata": {},
   "outputs": [],
   "source": [
    "# Clear cache.\n",
    "del model\n",
    "del optimizer\n",
    "del criterion\n",
    "torch.cuda.empty_cache()"
   ]
  },
  {
   "cell_type": "code",
   "execution_count": 12,
   "metadata": {},
   "outputs": [],
   "source": [
    "# Generating the noise grid and identity grid as per the developers.\n",
    "def noise_identity_grid(k=4, s=0.5):\n",
    "    ins = torch.rand(1, 2, k, k) * 2 - 1                                # Random noise grid\n",
    "    ins = ins / torch.mean(torch.abs(ins))                              # Normal it\n",
    "    noise_grid = (                                                      # Upsample the noise grid to match the input image resolution (224x224)\n",
    "        F.upsample(ins, size=224, mode=\"bicubic\", align_corners=True)\n",
    "        .permute(0, 2, 3, 1)\n",
    "        .to(device)\n",
    "    )\n",
    "\n",
    "    # Creation of identity grid to add the control grid to.\n",
    "    array1d = torch.linspace(-1, 1, steps=224)\n",
    "    x, y = torch.meshgrid(array1d, array1d)\n",
    "    identity_grid = torch.stack((y, x), 2)[None, ...].to(device)\n",
    "    \n",
    "    return noise_grid, identity_grid"
   ]
  },
  {
   "cell_type": "code",
   "execution_count": 10,
   "metadata": {},
   "outputs": [],
   "source": [
    "# Warp images in a batch of samples.\n",
    "def poison_batch(samples, targets, num_bd=0, num_cross=0, k=4, s=0.5):\n",
    "    # Get the noise and identity grid.\n",
    "    noise_grid, identity_grid = noise_identity_grid(k=k, s=s)\n",
    "    \n",
    "    # Create warping field M\n",
    "    grid_temps = (identity_grid + s * noise_grid / 224)\n",
    "    grid_temps = torch.clamp(grid_temps, -1, 1)\n",
    "    \n",
    "    # Create warping field M` for noise mode\n",
    "    ins = torch.rand(num_cross, 224, 224, 2).to(device) * 2 - 1\n",
    "    grid_temps2 = grid_temps.repeat(num_cross, 1, 1, 1) + ins / 224\n",
    "    grid_temps2 = torch.clamp(grid_temps2, -1, 1)\n",
    "\n",
    "    # Apply warping field to input samples.\n",
    "    inputs_bd = F.grid_sample(samples[:num_bd], grid_temps.repeat(num_bd, 1, 1, 1), align_corners=True)\n",
    "    \n",
    "    # Poison the labels as we only do targeted attacks.\n",
    "    target_label = torch.tensor([-0.2, 0.0]).to(device)\n",
    "    targets_bd = target_label.repeat(num_bd, 1)\n",
    "\n",
    "    # Warped but with clean labels for additional stealthiness.\n",
    "    inputs_cross = F.grid_sample(samples[num_bd : (num_bd + num_cross)], grid_temps2, align_corners=True)\n",
    "\n",
    "    # Final results.\n",
    "    total_inputs = torch.cat([inputs_bd, inputs_cross, samples[(num_bd + num_cross) :]], dim=0)\n",
    "    total_targets = torch.cat([targets_bd, targets[num_bd:]], dim=0)\n",
    "    return total_inputs, total_targets"
   ]
  },
  {
   "cell_type": "code",
   "execution_count": 11,
   "metadata": {},
   "outputs": [],
   "source": [
    "def train_poisoned(model, optimizer, criterion, train_loader, device, num_epochs=5, rate_bd=0.2, cross_ratio=2, k=4, s=0.5, lr_multiplier=5):\n",
    "    degrees = []\n",
    "    # Train loop\n",
    "    for epoch in range(num_epochs):\n",
    "        model.train()\n",
    "        running_loss = 0.0\n",
    "        diffs = []\n",
    "        for samples, targets in tqdm(train_loader):\n",
    "            # Move data to device.\n",
    "            samples, targets = samples.to(device), targets.to(device)\n",
    "            \n",
    "            # Determine number of attack and noise samples.\n",
    "            bs = samples.shape[0]\n",
    "            num_bd = int(bs * rate_bd)\n",
    "            num_cross = int(num_bd * cross_ratio)\n",
    "            \n",
    "            # Poison the samples.\n",
    "            samples, targets = poison_batch(samples, targets, num_bd=num_bd, num_cross=num_cross, k=k, s=s)\n",
    "            optimizer.zero_grad()\n",
    "            \n",
    "            # Forward, calculate loss, backpropagation.\n",
    "            outputs = model(samples)  \n",
    "            loss = criterion(outputs, targets)\n",
    "            loss.backward()\n",
    "            \n",
    "            # Optimize.\n",
    "            optimizer.step()\n",
    "            \n",
    "            running_loss += loss.item() * samples.size(0)\n",
    "            diff = degree_accuracy(outputs, targets)\n",
    "            diffs.append(diff)\n",
    "        \n",
    "        # Schedule learning rate manually as per.\n",
    "        for param_group in optimizer.param_groups:\n",
    "            param_group['lr'] /= ((epoch + 1) / (num_epochs + 1)) * lr_multiplier\n",
    "            \n",
    "        # Printing saving.\n",
    "        epoch_loss = running_loss / len(train_loader.dataset)\n",
    "        degree = sum(diffs) / len(diffs)\n",
    "        print(f\"Epoch {epoch+1}/{num_epochs}, Loss: {epoch_loss:.4f} - Degree: {sum(diffs) / len(diffs)}\")\n",
    "        degrees.append(float(degree))\n",
    "    \n",
    "    print(f\"Training result = {degrees}\\nParameters:\\nk={k}\\ns={s}\\ncross_ration={cross_ratio}\\nrate_bd={rate_bd}\\nlr_multiplier={lr_multiplier}\")\n",
    "    return degrees"
   ]
  },
  {
   "cell_type": "code",
   "execution_count": 12,
   "metadata": {},
   "outputs": [
    {
     "name": "stderr",
     "output_type": "stream",
     "text": [
      "c:\\Users\\Gijs\\OneDrive - Delft University of Technology\\TUdelft\\cse_3\\research_project\\.venv\\Lib\\site-packages\\torchvision\\models\\_utils.py:208: UserWarning: The parameter 'pretrained' is deprecated since 0.13 and may be removed in the future, please use 'weights' instead.\n",
      "  warnings.warn(\n",
      "c:\\Users\\Gijs\\OneDrive - Delft University of Technology\\TUdelft\\cse_3\\research_project\\.venv\\Lib\\site-packages\\torchvision\\models\\_utils.py:223: UserWarning: Arguments other than a weight enum or `None` for 'weights' are deprecated since 0.13 and may be removed in the future. The current behavior is equivalent to passing `weights=ResNet18_Weights.IMAGENET1K_V1`. You can also use `weights=ResNet18_Weights.DEFAULT` to get the most up-to-date weights.\n",
      "  warnings.warn(msg)\n",
      "  0%|          | 0/360 [00:00<?, ?it/s]c:\\Users\\Gijs\\OneDrive - Delft University of Technology\\TUdelft\\cse_3\\research_project\\.venv\\Lib\\site-packages\\torch\\nn\\functional.py:3809: UserWarning: nn.functional.upsample is deprecated. Use nn.functional.interpolate instead.\n",
      "  warnings.warn(\"nn.functional.upsample is deprecated. Use nn.functional.interpolate instead.\")\n",
      "c:\\Users\\Gijs\\OneDrive - Delft University of Technology\\TUdelft\\cse_3\\research_project\\.venv\\Lib\\site-packages\\torch\\functional.py:512: UserWarning: torch.meshgrid: in an upcoming release, it will be required to pass the indexing argument. (Triggered internally at ..\\aten\\src\\ATen\\native\\TensorShape.cpp:3588.)\n",
      "  return _VF.meshgrid(tensors, **kwargs)  # type: ignore[attr-defined]\n",
      "100%|██████████| 360/360 [07:10<00:00,  1.20s/it]\n"
     ]
    },
    {
     "name": "stdout",
     "output_type": "stream",
     "text": [
      "Epoch 1/8, Loss: 0.0996 - Degree: 9.020406723022461\n"
     ]
    },
    {
     "name": "stderr",
     "output_type": "stream",
     "text": [
      "100%|██████████| 360/360 [07:29<00:00,  1.25s/it]\n"
     ]
    },
    {
     "name": "stdout",
     "output_type": "stream",
     "text": [
      "Epoch 2/8, Loss: 0.0529 - Degree: 4.776569843292236\n"
     ]
    },
    {
     "name": "stderr",
     "output_type": "stream",
     "text": [
      "100%|██████████| 360/360 [07:22<00:00,  1.23s/it]\n"
     ]
    },
    {
     "name": "stdout",
     "output_type": "stream",
     "text": [
      "Epoch 3/8, Loss: 0.0390 - Degree: 3.5214078426361084\n"
     ]
    },
    {
     "name": "stderr",
     "output_type": "stream",
     "text": [
      "100%|██████████| 360/360 [07:21<00:00,  1.23s/it]\n"
     ]
    },
    {
     "name": "stdout",
     "output_type": "stream",
     "text": [
      "Epoch 4/8, Loss: 0.0311 - Degree: 2.815203905105591\n"
     ]
    },
    {
     "name": "stderr",
     "output_type": "stream",
     "text": [
      "100%|██████████| 360/360 [07:22<00:00,  1.23s/it]\n"
     ]
    },
    {
     "name": "stdout",
     "output_type": "stream",
     "text": [
      "Epoch 5/8, Loss: 0.0260 - Degree: 2.359724760055542\n"
     ]
    },
    {
     "name": "stderr",
     "output_type": "stream",
     "text": [
      "100%|██████████| 360/360 [07:25<00:00,  1.24s/it]\n"
     ]
    },
    {
     "name": "stdout",
     "output_type": "stream",
     "text": [
      "Epoch 6/8, Loss: 0.0239 - Degree: 2.1662681102752686\n"
     ]
    },
    {
     "name": "stderr",
     "output_type": "stream",
     "text": [
      "100%|██████████| 360/360 [07:24<00:00,  1.23s/it]\n"
     ]
    },
    {
     "name": "stdout",
     "output_type": "stream",
     "text": [
      "Epoch 7/8, Loss: 0.0231 - Degree: 2.0960795879364014\n"
     ]
    },
    {
     "name": "stderr",
     "output_type": "stream",
     "text": [
      "100%|██████████| 360/360 [07:22<00:00,  1.23s/it]\n"
     ]
    },
    {
     "name": "stdout",
     "output_type": "stream",
     "text": [
      "Epoch 8/8, Loss: 0.0229 - Degree: 2.082871437072754\n",
      "Training result = [9.020406723022461, 4.776569843292236, 3.5214078426361084, 2.815203905105591, 2.359724760055542, 2.1662681102752686, 2.0960795879364014, 2.082871437072754]\n",
      "Parameters:\n",
      "k=28\n",
      "s=0.5\n",
      "cross_ration=2\n",
      "rate_bd=0.2\n",
      "lr_multiplier=7\n"
     ]
    },
    {
     "data": {
      "text/plain": [
       "[9.020406723022461,\n",
       " 4.776569843292236,\n",
       " 3.5214078426361084,\n",
       " 2.815203905105591,\n",
       " 2.359724760055542,\n",
       " 2.1662681102752686,\n",
       " 2.0960795879364014,\n",
       " 2.082871437072754]"
      ]
     },
     "execution_count": 12,
     "metadata": {},
     "output_type": "execute_result"
    }
   ],
   "source": [
    "# Warping parameters.\n",
    "k = 28\n",
    "s = 0.5\n",
    "cross_ratio = 2\n",
    "rate_bd = 0.2\n",
    "\n",
    "# Initialize and train model.\n",
    "criterion = nn.L1Loss()\n",
    "model = RegressionResNet().to(device)\n",
    "optimizer = optim.Adam(model.parameters(), lr=lr)\n",
    "\n",
    "degrees = train_poisoned(\n",
    "    model, \n",
    "    optimizer, \n",
    "    criterion, \n",
    "    train_loader, \n",
    "    device, num_epochs, \n",
    "    cross_ratio=cross_ratio, \n",
    "    rate_bd=rate_bd, \n",
    "    lr_multiplier=7, \n",
    "    k=k, \n",
    "    s=s\n",
    ")\n",
    "\n",
    "degrees\n",
    "\n"
   ]
  },
  {
   "cell_type": "code",
   "execution_count": null,
   "metadata": {},
   "outputs": [],
   "source": [
    "# Plotting and saving once more.\n",
    "filepath = f\"{ROOT_DIR}/tmp/plots/poisoned/\"\n",
    "\n",
    "parameters = {\n",
    "    \"lr\": lr,\n",
    "    \"lr_multiplier\": lr_multiplier,\n",
    "    \"batch_size\": batch_size,\n",
    "    \"train_size\": train_size,\n",
    "    \"k\": k,\n",
    "    \"s\": s\n",
    "}\n",
    "\n",
    "train_obj = {\n",
    "    \"degrees\": degrees,\n",
    "    \"parameters\": parameters\n",
    "}\n",
    "\n",
    "try:\n",
    "    with open(f\"{filepath}poisoned_train_results.txt\", \"a+\") as f:\n",
    "        json_str = json.dumps(train_obj, indent=2)\n",
    "        f.write(f\"{json_str}\\n\\n\")\n",
    "        \n",
    "except Exception as e:\n",
    "    print(e)\n",
    "\n",
    "\n",
    "plot_and_save(train_obj, filepath=filepath)"
   ]
  },
  {
   "cell_type": "code",
   "execution_count": 13,
   "metadata": {},
   "outputs": [],
   "source": [
    "# Adjusted the calculation for angular error mainly to save values to a file. Part of data gathering and not required.\n",
    "def degree_accuracy_save(samples, targets):\n",
    "    items = []\n",
    "    # Predicted yaw and pitch\n",
    "    predicted_yaw = samples[:, 0]\n",
    "    predicted_pitch = samples[:, 1]\n",
    "    # Actual yaw and pitch\n",
    "    target_yaw = targets[:, 0]\n",
    "    target_pitch = targets[:, 1]\n",
    "\n",
    "    # Decompose yaw and pitch, subtract and calculate smallest angular error for each.\n",
    "    angular_error_yaw = torch.atan2(torch.sin(predicted_yaw - target_yaw), torch.cos(predicted_yaw - target_yaw))\n",
    "    angular_error_pitch = torch.atan2(torch.sin(predicted_pitch - target_pitch), torch.cos(predicted_pitch - target_pitch))\n",
    "\n",
    "    # Convert radians to degrees\n",
    "    angular_error_yaw = torch.rad2deg(angular_error_yaw)\n",
    "    angular_error_pitch = torch.rad2deg(angular_error_pitch)\n",
    "    \n",
    "    # Combine yaw and pitch.\n",
    "    combined_angular_error = torch.sqrt(angular_error_yaw ** 2 + angular_error_pitch ** 2)\n",
    "\n",
    "    # Average over batch.\n",
    "    mean_combined_angular_error = torch.mean(combined_angular_error)\n",
    "    \n",
    "    # Store results\n",
    "    for i in range(len(samples)):\n",
    "        item = {\n",
    "            \"predicted\":(predicted_yaw[i].item(), predicted_pitch[i].item()),\n",
    "            \"actual\":(target_yaw[i].item(), target_pitch[i].item()),\n",
    "            \"error\":combined_angular_error[i].item()\n",
    "        }\n",
    "        items.append(item)\n",
    "    \n",
    "    return mean_combined_angular_error, items\n",
    "\n"
   ]
  },
  {
   "cell_type": "code",
   "execution_count": 15,
   "metadata": {},
   "outputs": [
    {
     "name": "stderr",
     "output_type": "stream",
     "text": [
      "  0%|          | 0/90 [00:00<?, ?it/s]c:\\Users\\Gijs\\OneDrive - Delft University of Technology\\TUdelft\\cse_3\\research_project\\.venv\\Lib\\site-packages\\torch\\nn\\functional.py:3809: UserWarning: nn.functional.upsample is deprecated. Use nn.functional.interpolate instead.\n",
      "  warnings.warn(\"nn.functional.upsample is deprecated. Use nn.functional.interpolate instead.\")\n",
      "c:\\Users\\Gijs\\OneDrive - Delft University of Technology\\TUdelft\\cse_3\\research_project\\.venv\\Lib\\site-packages\\torch\\functional.py:512: UserWarning: torch.meshgrid: in an upcoming release, it will be required to pass the indexing argument. (Triggered internally at ..\\aten\\src\\ATen\\native\\TensorShape.cpp:3588.)\n",
      "  return _VF.meshgrid(tensors, **kwargs)  # type: ignore[attr-defined]\n",
      "100%|██████████| 90/90 [01:07<00:00,  1.34it/s]"
     ]
    },
    {
     "name": "stdout",
     "output_type": "stream",
     "text": [
      "Test Loss clean: 2.0076 degrees\n",
      "Test Loss poisoned: 10.9545 degrees\n"
     ]
    },
    {
     "name": "stderr",
     "output_type": "stream",
     "text": [
      "\n"
     ]
    }
   ],
   "source": [
    "# Evaluation function that saves the result to a csv.\n",
    "def evaluate(model, test_loader, device, k=4, s=0.5):\n",
    "    model.eval()  # Set the model to evaluation mode\n",
    "    running_loss = 0.0\n",
    "    \n",
    "    total_items_bd = []\n",
    "    total_items = []\n",
    "    \n",
    "    diffs = []\n",
    "    diffs_p = []\n",
    "    with torch.no_grad():  # Disable gradient calculation for evaluation\n",
    "        for samples, targets in tqdm(test_loader):\n",
    "            # Move data to device\n",
    "            samples, targets = samples.to(device), targets.to(device)\n",
    "            \n",
    "            outputs_clean = model(samples)  # Forward pass\n",
    "            \n",
    "            bs = samples.shape[0]\n",
    "            \n",
    "            # Evaluate Backdoor\n",
    "            noise_grid, identity_grid = noise_identity_grid(k=k, s=s)\n",
    "            \n",
    "            grid_temps = (identity_grid + s * noise_grid / 224)\n",
    "            grid_temps = torch.clamp(grid_temps, -1, 1)\n",
    "\n",
    "            ins = torch.rand(bs, 224, 224, 2).to(device) * 2 - 1\n",
    "            grid_temps2 = grid_temps.repeat(bs, 1, 1, 1) + ins / 224\n",
    "            grid_temps2 = torch.clamp(grid_temps2, -1, 1)\n",
    "\n",
    "            samples_p = F.grid_sample(samples, grid_temps.repeat(bs, 1, 1, 1), align_corners=True)\n",
    "                \n",
    "            target_label = torch.tensor([-0.2, 0.0]).to(device)\n",
    "\n",
    "            # Create poisoned targets\n",
    "            targets_p = target_label.repeat(bs, 1)            \n",
    "            outputs_p = model(samples_p)\n",
    "            \n",
    "            degree_bd, items_bd = degree_accuracy_save(outputs_p, targets_p)\n",
    "            degree, items = degree_accuracy_save(outputs_clean, targets)\n",
    "            \n",
    "            total_items_bd += items_bd\n",
    "            total_items += items\n",
    "            \n",
    "            diffs_p.append(degree_bd)\n",
    "            diffs.append(degree)\n",
    "    \n",
    "    epoch_loss = running_loss / len(test_loader.dataset)\n",
    "    avg_diff = sum(diffs) / len(diffs)\n",
    "    avg_diff_p = sum(diffs_p) / len(diffs_p)\n",
    "    print(f\"Test Loss clean: {avg_diff:.4f} degrees\")\n",
    "    print(f\"Test Loss poisoned: {avg_diff_p:.4f} degrees\")\n",
    "    return epoch_loss, avg_diff, total_items, total_items_bd\n",
    "\n",
    "k = 28\n",
    "s = 1.0\n",
    "test_loss, test_diff, total_items, total_items_bd = evaluate(model, test_loader, device, k=k, s=s)\n",
    "\n"
   ]
  },
  {
   "cell_type": "code",
   "execution_count": 16,
   "metadata": {},
   "outputs": [],
   "source": [
    "# For data gathering.\n",
    "import csv\n",
    "\n",
    "def save_results_to_csv(filename, results):\n",
    "    with open(filename, mode='w', newline='') as file:\n",
    "        writer = csv.writer(file)\n",
    "        writer.writerow(['Predicted Yaw', 'Predicted Pitch', 'Actual Yaw', 'Actual Pitch', 'Angular Error'])\n",
    "        \n",
    "        for result in results:\n",
    "            predicted_yaw, predicted_pitch = result['predicted']\n",
    "            actual_yaw, actual_pitch = result['actual']\n",
    "            error = result['error']\n",
    "            writer.writerow([predicted_yaw, predicted_pitch, actual_yaw, actual_pitch, error])\n",
    "\n",
    "save_results_to_csv(f\"{ROOT_DIR}/clean_results.csv\", total_items)\n",
    "save_results_to_csv(f\"{ROOT_DIR}/clean_results_bd.csv\", total_items_bd)"
   ]
  },
  {
   "cell_type": "code",
   "execution_count": 16,
   "metadata": {},
   "outputs": [],
   "source": [
    "# Clear cache.\n",
    "del model\n",
    "del optimizer\n",
    "del criterion\n",
    "torch.cuda.empty_cache()"
   ]
  },
  {
   "cell_type": "code",
   "execution_count": 17,
   "metadata": {},
   "outputs": [
    {
     "name": "stderr",
     "output_type": "stream",
     "text": [
      "100%|██████████| 360/360 [07:33<00:00,  1.26s/it]\n"
     ]
    },
    {
     "name": "stdout",
     "output_type": "stream",
     "text": [
      "Epoch 1/8, Loss: 0.0950 - Degree: 8.561842918395996\n"
     ]
    },
    {
     "name": "stderr",
     "output_type": "stream",
     "text": [
      "100%|██████████| 360/360 [07:25<00:00,  1.24s/it]\n"
     ]
    },
    {
     "name": "stdout",
     "output_type": "stream",
     "text": [
      "Epoch 2/8, Loss: 0.0562 - Degree: 5.083408832550049\n"
     ]
    },
    {
     "name": "stderr",
     "output_type": "stream",
     "text": [
      "100%|██████████| 360/360 [07:26<00:00,  1.24s/it]\n"
     ]
    },
    {
     "name": "stdout",
     "output_type": "stream",
     "text": [
      "Epoch 3/8, Loss: 0.0457 - Degree: 4.12785530090332\n"
     ]
    },
    {
     "name": "stderr",
     "output_type": "stream",
     "text": [
      "100%|██████████| 360/360 [07:24<00:00,  1.23s/it]\n"
     ]
    },
    {
     "name": "stdout",
     "output_type": "stream",
     "text": [
      "Epoch 4/8, Loss: 0.0370 - Degree: 3.3518898487091064\n"
     ]
    },
    {
     "name": "stderr",
     "output_type": "stream",
     "text": [
      "100%|██████████| 360/360 [07:22<00:00,  1.23s/it]\n"
     ]
    },
    {
     "name": "stdout",
     "output_type": "stream",
     "text": [
      "Epoch 5/8, Loss: 0.0312 - Degree: 2.8345947265625\n"
     ]
    },
    {
     "name": "stderr",
     "output_type": "stream",
     "text": [
      "100%|██████████| 360/360 [07:28<00:00,  1.25s/it]\n"
     ]
    },
    {
     "name": "stdout",
     "output_type": "stream",
     "text": [
      "Epoch 6/8, Loss: 0.0286 - Degree: 2.60326886177063\n"
     ]
    },
    {
     "name": "stderr",
     "output_type": "stream",
     "text": [
      "100%|██████████| 360/360 [07:26<00:00,  1.24s/it]\n"
     ]
    },
    {
     "name": "stdout",
     "output_type": "stream",
     "text": [
      "Epoch 7/8, Loss: 0.0278 - Degree: 2.5298683643341064\n"
     ]
    },
    {
     "name": "stderr",
     "output_type": "stream",
     "text": [
      "100%|██████████| 360/360 [07:27<00:00,  1.24s/it]\n"
     ]
    },
    {
     "name": "stdout",
     "output_type": "stream",
     "text": [
      "Epoch 8/8, Loss: 0.0275 - Degree: 2.503859519958496\n",
      "Training result = [8.561842918395996, 5.083408832550049, 4.12785530090332, 3.3518898487091064, 2.8345947265625, 2.60326886177063, 2.5298683643341064, 2.503859519958496]\n",
      "Parameters:\n",
      "k=20\n",
      "s=0.5\n",
      "cross_ration=2\n",
      "rate_bd=0.2\n",
      "lr_multiplier=7\n"
     ]
    },
    {
     "name": "stderr",
     "output_type": "stream",
     "text": [
      "100%|██████████| 90/90 [01:31<00:00,  1.02s/it]\n"
     ]
    },
    {
     "name": "stdout",
     "output_type": "stream",
     "text": [
      "Test Loss clean: 3.2728 degrees\n",
      "Test Loss poisoned: 3.6385 degrees\n"
     ]
    },
    {
     "name": "stderr",
     "output_type": "stream",
     "text": [
      "100%|██████████| 360/360 [07:27<00:00,  1.24s/it]\n"
     ]
    },
    {
     "name": "stdout",
     "output_type": "stream",
     "text": [
      "Epoch 1/8, Loss: 0.0962 - Degree: 8.67172622680664\n"
     ]
    },
    {
     "name": "stderr",
     "output_type": "stream",
     "text": [
      "100%|██████████| 360/360 [07:25<00:00,  1.24s/it]\n"
     ]
    },
    {
     "name": "stdout",
     "output_type": "stream",
     "text": [
      "Epoch 2/8, Loss: 0.0479 - Degree: 4.321710109710693\n"
     ]
    },
    {
     "name": "stderr",
     "output_type": "stream",
     "text": [
      "100%|██████████| 360/360 [07:23<00:00,  1.23s/it]\n"
     ]
    },
    {
     "name": "stdout",
     "output_type": "stream",
     "text": [
      "Epoch 3/8, Loss: 0.0357 - Degree: 3.220167398452759\n"
     ]
    },
    {
     "name": "stderr",
     "output_type": "stream",
     "text": [
      "100%|██████████| 360/360 [07:27<00:00,  1.24s/it]\n"
     ]
    },
    {
     "name": "stdout",
     "output_type": "stream",
     "text": [
      "Epoch 4/8, Loss: 0.0285 - Degree: 2.5725841522216797\n"
     ]
    },
    {
     "name": "stderr",
     "output_type": "stream",
     "text": [
      "100%|██████████| 360/360 [07:21<00:00,  1.23s/it]\n"
     ]
    },
    {
     "name": "stdout",
     "output_type": "stream",
     "text": [
      "Epoch 5/8, Loss: 0.0243 - Degree: 2.1995701789855957\n"
     ]
    },
    {
     "name": "stderr",
     "output_type": "stream",
     "text": [
      "100%|██████████| 360/360 [07:26<00:00,  1.24s/it]\n"
     ]
    },
    {
     "name": "stdout",
     "output_type": "stream",
     "text": [
      "Epoch 6/8, Loss: 0.0224 - Degree: 2.0347845554351807\n"
     ]
    },
    {
     "name": "stderr",
     "output_type": "stream",
     "text": [
      "100%|██████████| 360/360 [07:27<00:00,  1.24s/it]\n"
     ]
    },
    {
     "name": "stdout",
     "output_type": "stream",
     "text": [
      "Epoch 7/8, Loss: 0.0218 - Degree: 1.9769353866577148\n"
     ]
    },
    {
     "name": "stderr",
     "output_type": "stream",
     "text": [
      "100%|██████████| 360/360 [07:26<00:00,  1.24s/it]\n"
     ]
    },
    {
     "name": "stdout",
     "output_type": "stream",
     "text": [
      "Epoch 8/8, Loss: 0.0216 - Degree: 1.9610567092895508\n",
      "Training result = [8.67172622680664, 4.321710109710693, 3.220167398452759, 2.5725841522216797, 2.1995701789855957, 2.0347845554351807, 1.9769353866577148, 1.9610567092895508]\n",
      "Parameters:\n",
      "k=20\n",
      "s=1.0\n",
      "cross_ration=2\n",
      "rate_bd=0.2\n",
      "lr_multiplier=7\n"
     ]
    },
    {
     "name": "stderr",
     "output_type": "stream",
     "text": [
      "100%|██████████| 90/90 [01:30<00:00,  1.01s/it]\n"
     ]
    },
    {
     "name": "stdout",
     "output_type": "stream",
     "text": [
      "Test Loss clean: 2.4435 degrees\n",
      "Test Loss poisoned: 1.1613 degrees\n"
     ]
    },
    {
     "name": "stderr",
     "output_type": "stream",
     "text": [
      "100%|██████████| 360/360 [07:24<00:00,  1.23s/it]\n"
     ]
    },
    {
     "name": "stdout",
     "output_type": "stream",
     "text": [
      "Epoch 1/8, Loss: 0.0968 - Degree: 8.721781730651855\n"
     ]
    },
    {
     "name": "stderr",
     "output_type": "stream",
     "text": [
      "100%|██████████| 360/360 [07:27<00:00,  1.24s/it]\n"
     ]
    },
    {
     "name": "stdout",
     "output_type": "stream",
     "text": [
      "Epoch 2/8, Loss: 0.0438 - Degree: 3.9509332180023193\n"
     ]
    },
    {
     "name": "stderr",
     "output_type": "stream",
     "text": [
      "100%|██████████| 360/360 [07:26<00:00,  1.24s/it]\n"
     ]
    },
    {
     "name": "stdout",
     "output_type": "stream",
     "text": [
      "Epoch 3/8, Loss: 0.0344 - Degree: 3.1052772998809814\n"
     ]
    },
    {
     "name": "stderr",
     "output_type": "stream",
     "text": [
      "100%|██████████| 360/360 [07:34<00:00,  1.26s/it]\n"
     ]
    },
    {
     "name": "stdout",
     "output_type": "stream",
     "text": [
      "Epoch 4/8, Loss: 0.0280 - Degree: 2.5312185287475586\n"
     ]
    },
    {
     "name": "stderr",
     "output_type": "stream",
     "text": [
      "100%|██████████| 360/360 [07:32<00:00,  1.26s/it]\n"
     ]
    },
    {
     "name": "stdout",
     "output_type": "stream",
     "text": [
      "Epoch 5/8, Loss: 0.0240 - Degree: 2.171058177947998\n"
     ]
    },
    {
     "name": "stderr",
     "output_type": "stream",
     "text": [
      "100%|██████████| 360/360 [07:34<00:00,  1.26s/it]\n"
     ]
    },
    {
     "name": "stdout",
     "output_type": "stream",
     "text": [
      "Epoch 6/8, Loss: 0.0222 - Degree: 2.0137927532196045\n"
     ]
    },
    {
     "name": "stderr",
     "output_type": "stream",
     "text": [
      "100%|██████████| 360/360 [07:32<00:00,  1.26s/it]\n"
     ]
    },
    {
     "name": "stdout",
     "output_type": "stream",
     "text": [
      "Epoch 7/8, Loss: 0.0217 - Degree: 1.971769094467163\n"
     ]
    },
    {
     "name": "stderr",
     "output_type": "stream",
     "text": [
      "100%|██████████| 360/360 [07:27<00:00,  1.24s/it]\n"
     ]
    },
    {
     "name": "stdout",
     "output_type": "stream",
     "text": [
      "Epoch 8/8, Loss: 0.0215 - Degree: 1.9525997638702393\n",
      "Training result = [8.721781730651855, 3.9509332180023193, 3.1052772998809814, 2.5312185287475586, 2.171058177947998, 2.0137927532196045, 1.971769094467163, 1.9525997638702393]\n",
      "Parameters:\n",
      "k=20\n",
      "s=1.5\n",
      "cross_ration=2\n",
      "rate_bd=0.2\n",
      "lr_multiplier=7\n"
     ]
    },
    {
     "name": "stderr",
     "output_type": "stream",
     "text": [
      "100%|██████████| 90/90 [01:29<00:00,  1.01it/s]\n"
     ]
    },
    {
     "name": "stdout",
     "output_type": "stream",
     "text": [
      "Test Loss clean: 2.2646 degrees\n",
      "Test Loss poisoned: 0.8135 degrees\n"
     ]
    },
    {
     "name": "stderr",
     "output_type": "stream",
     "text": [
      "100%|██████████| 360/360 [07:26<00:00,  1.24s/it]\n"
     ]
    },
    {
     "name": "stdout",
     "output_type": "stream",
     "text": [
      "Epoch 1/8, Loss: 0.0928 - Degree: 8.36384391784668\n"
     ]
    },
    {
     "name": "stderr",
     "output_type": "stream",
     "text": [
      "100%|██████████| 360/360 [07:33<00:00,  1.26s/it]\n"
     ]
    },
    {
     "name": "stdout",
     "output_type": "stream",
     "text": [
      "Epoch 2/8, Loss: 0.0530 - Degree: 4.778811931610107\n"
     ]
    },
    {
     "name": "stderr",
     "output_type": "stream",
     "text": [
      "100%|██████████| 360/360 [07:35<00:00,  1.26s/it]\n"
     ]
    },
    {
     "name": "stdout",
     "output_type": "stream",
     "text": [
      "Epoch 3/8, Loss: 0.0391 - Degree: 3.5263309478759766\n"
     ]
    },
    {
     "name": "stderr",
     "output_type": "stream",
     "text": [
      "100%|██████████| 360/360 [07:24<00:00,  1.24s/it]\n"
     ]
    },
    {
     "name": "stdout",
     "output_type": "stream",
     "text": [
      "Epoch 4/8, Loss: 0.0315 - Degree: 2.854921579360962\n"
     ]
    },
    {
     "name": "stderr",
     "output_type": "stream",
     "text": [
      "100%|██████████| 360/360 [07:31<00:00,  1.25s/it]\n"
     ]
    },
    {
     "name": "stdout",
     "output_type": "stream",
     "text": [
      "Epoch 5/8, Loss: 0.0265 - Degree: 2.4008800983428955\n"
     ]
    },
    {
     "name": "stderr",
     "output_type": "stream",
     "text": [
      "100%|██████████| 360/360 [07:29<00:00,  1.25s/it]\n"
     ]
    },
    {
     "name": "stdout",
     "output_type": "stream",
     "text": [
      "Epoch 6/8, Loss: 0.0242 - Degree: 2.2013895511627197\n"
     ]
    },
    {
     "name": "stderr",
     "output_type": "stream",
     "text": [
      "100%|██████████| 360/360 [07:26<00:00,  1.24s/it]\n"
     ]
    },
    {
     "name": "stdout",
     "output_type": "stream",
     "text": [
      "Epoch 7/8, Loss: 0.0234 - Degree: 2.1298279762268066\n"
     ]
    },
    {
     "name": "stderr",
     "output_type": "stream",
     "text": [
      "100%|██████████| 360/360 [07:26<00:00,  1.24s/it]\n"
     ]
    },
    {
     "name": "stdout",
     "output_type": "stream",
     "text": [
      "Epoch 8/8, Loss: 0.0232 - Degree: 2.1103508472442627\n",
      "Training result = [8.36384391784668, 4.778811931610107, 3.5263309478759766, 2.854921579360962, 2.4008800983428955, 2.2013895511627197, 2.1298279762268066, 2.1103508472442627]\n",
      "Parameters:\n",
      "k=28\n",
      "s=0.5\n",
      "cross_ration=2\n",
      "rate_bd=0.2\n",
      "lr_multiplier=7\n"
     ]
    },
    {
     "name": "stderr",
     "output_type": "stream",
     "text": [
      "100%|██████████| 90/90 [01:25<00:00,  1.06it/s]\n"
     ]
    },
    {
     "name": "stdout",
     "output_type": "stream",
     "text": [
      "Test Loss clean: 2.7858 degrees\n",
      "Test Loss poisoned: 1.9999 degrees\n"
     ]
    },
    {
     "name": "stderr",
     "output_type": "stream",
     "text": [
      "100%|██████████| 360/360 [07:27<00:00,  1.24s/it]\n"
     ]
    },
    {
     "name": "stdout",
     "output_type": "stream",
     "text": [
      "Epoch 1/8, Loss: 0.0915 - Degree: 8.239036560058594\n"
     ]
    },
    {
     "name": "stderr",
     "output_type": "stream",
     "text": [
      "100%|██████████| 360/360 [07:28<00:00,  1.25s/it]\n"
     ]
    },
    {
     "name": "stdout",
     "output_type": "stream",
     "text": [
      "Epoch 2/8, Loss: 0.0439 - Degree: 3.9591856002807617\n"
     ]
    },
    {
     "name": "stderr",
     "output_type": "stream",
     "text": [
      "100%|██████████| 360/360 [07:28<00:00,  1.25s/it]\n"
     ]
    },
    {
     "name": "stdout",
     "output_type": "stream",
     "text": [
      "Epoch 3/8, Loss: 0.0339 - Degree: 3.060136556625366\n"
     ]
    },
    {
     "name": "stderr",
     "output_type": "stream",
     "text": [
      "100%|██████████| 360/360 [07:29<00:00,  1.25s/it]\n"
     ]
    },
    {
     "name": "stdout",
     "output_type": "stream",
     "text": [
      "Epoch 4/8, Loss: 0.0271 - Degree: 2.446972131729126\n"
     ]
    },
    {
     "name": "stderr",
     "output_type": "stream",
     "text": [
      "100%|██████████| 360/360 [07:22<00:00,  1.23s/it]\n"
     ]
    },
    {
     "name": "stdout",
     "output_type": "stream",
     "text": [
      "Epoch 5/8, Loss: 0.0233 - Degree: 2.1094393730163574\n"
     ]
    },
    {
     "name": "stderr",
     "output_type": "stream",
     "text": [
      "100%|██████████| 360/360 [07:29<00:00,  1.25s/it]\n"
     ]
    },
    {
     "name": "stdout",
     "output_type": "stream",
     "text": [
      "Epoch 6/8, Loss: 0.0216 - Degree: 1.9603441953659058\n"
     ]
    },
    {
     "name": "stderr",
     "output_type": "stream",
     "text": [
      "100%|██████████| 360/360 [07:26<00:00,  1.24s/it]\n"
     ]
    },
    {
     "name": "stdout",
     "output_type": "stream",
     "text": [
      "Epoch 7/8, Loss: 0.0209 - Degree: 1.9009244441986084\n"
     ]
    },
    {
     "name": "stderr",
     "output_type": "stream",
     "text": [
      "100%|██████████| 360/360 [07:27<00:00,  1.24s/it]\n"
     ]
    },
    {
     "name": "stdout",
     "output_type": "stream",
     "text": [
      "Epoch 8/8, Loss: 0.0208 - Degree: 1.8837884664535522\n",
      "Training result = [8.239036560058594, 3.9591856002807617, 3.060136556625366, 2.446972131729126, 2.1094393730163574, 1.9603441953659058, 1.9009244441986084, 1.8837884664535522]\n",
      "Parameters:\n",
      "k=28\n",
      "s=1.0\n",
      "cross_ration=2\n",
      "rate_bd=0.2\n",
      "lr_multiplier=7\n"
     ]
    },
    {
     "name": "stderr",
     "output_type": "stream",
     "text": [
      "100%|██████████| 90/90 [01:26<00:00,  1.04it/s]\n"
     ]
    },
    {
     "name": "stdout",
     "output_type": "stream",
     "text": [
      "Test Loss clean: 2.2732 degrees\n",
      "Test Loss poisoned: 0.7872 degrees\n"
     ]
    },
    {
     "name": "stderr",
     "output_type": "stream",
     "text": [
      "100%|██████████| 360/360 [07:27<00:00,  1.24s/it]\n"
     ]
    },
    {
     "name": "stdout",
     "output_type": "stream",
     "text": [
      "Epoch 1/8, Loss: 0.0984 - Degree: 8.91201114654541\n"
     ]
    },
    {
     "name": "stderr",
     "output_type": "stream",
     "text": [
      "100%|██████████| 360/360 [07:28<00:00,  1.25s/it]\n"
     ]
    },
    {
     "name": "stdout",
     "output_type": "stream",
     "text": [
      "Epoch 2/8, Loss: 0.0414 - Degree: 3.7368311882019043\n"
     ]
    },
    {
     "name": "stderr",
     "output_type": "stream",
     "text": [
      "100%|██████████| 360/360 [07:26<00:00,  1.24s/it]\n"
     ]
    },
    {
     "name": "stdout",
     "output_type": "stream",
     "text": [
      "Epoch 3/8, Loss: 0.0327 - Degree: 2.9538357257843018\n"
     ]
    },
    {
     "name": "stderr",
     "output_type": "stream",
     "text": [
      "100%|██████████| 360/360 [07:31<00:00,  1.25s/it]\n"
     ]
    },
    {
     "name": "stdout",
     "output_type": "stream",
     "text": [
      "Epoch 4/8, Loss: 0.0265 - Degree: 2.3993468284606934\n"
     ]
    },
    {
     "name": "stderr",
     "output_type": "stream",
     "text": [
      "100%|██████████| 360/360 [07:26<00:00,  1.24s/it]\n"
     ]
    },
    {
     "name": "stdout",
     "output_type": "stream",
     "text": [
      "Epoch 5/8, Loss: 0.0232 - Degree: 2.0974113941192627\n"
     ]
    },
    {
     "name": "stderr",
     "output_type": "stream",
     "text": [
      "100%|██████████| 360/360 [07:30<00:00,  1.25s/it]\n"
     ]
    },
    {
     "name": "stdout",
     "output_type": "stream",
     "text": [
      "Epoch 6/8, Loss: 0.0216 - Degree: 1.9583674669265747\n"
     ]
    },
    {
     "name": "stderr",
     "output_type": "stream",
     "text": [
      "100%|██████████| 360/360 [07:24<00:00,  1.24s/it]\n"
     ]
    },
    {
     "name": "stdout",
     "output_type": "stream",
     "text": [
      "Epoch 7/8, Loss: 0.0211 - Degree: 1.9104939699172974\n"
     ]
    },
    {
     "name": "stderr",
     "output_type": "stream",
     "text": [
      "100%|██████████| 360/360 [07:27<00:00,  1.24s/it]\n"
     ]
    },
    {
     "name": "stdout",
     "output_type": "stream",
     "text": [
      "Epoch 8/8, Loss: 0.0209 - Degree: 1.9001054763793945\n",
      "Training result = [8.91201114654541, 3.7368311882019043, 2.9538357257843018, 2.3993468284606934, 2.0974113941192627, 1.9583674669265747, 1.9104939699172974, 1.9001054763793945]\n",
      "Parameters:\n",
      "k=28\n",
      "s=1.5\n",
      "cross_ration=2\n",
      "rate_bd=0.2\n",
      "lr_multiplier=7\n"
     ]
    },
    {
     "name": "stderr",
     "output_type": "stream",
     "text": [
      "100%|██████████| 90/90 [01:29<00:00,  1.00it/s]\n"
     ]
    },
    {
     "name": "stdout",
     "output_type": "stream",
     "text": [
      "Test Loss clean: 2.2172 degrees\n",
      "Test Loss poisoned: 0.5005 degrees\n"
     ]
    },
    {
     "name": "stderr",
     "output_type": "stream",
     "text": [
      "100%|██████████| 360/360 [07:24<00:00,  1.24s/it]\n"
     ]
    },
    {
     "name": "stdout",
     "output_type": "stream",
     "text": [
      "Epoch 1/8, Loss: 0.0978 - Degree: 8.8160982131958\n"
     ]
    },
    {
     "name": "stderr",
     "output_type": "stream",
     "text": [
      "100%|██████████| 360/360 [07:27<00:00,  1.24s/it]\n"
     ]
    },
    {
     "name": "stdout",
     "output_type": "stream",
     "text": [
      "Epoch 2/8, Loss: 0.0505 - Degree: 4.55813455581665\n"
     ]
    },
    {
     "name": "stderr",
     "output_type": "stream",
     "text": [
      "100%|██████████| 360/360 [07:27<00:00,  1.24s/it]\n"
     ]
    },
    {
     "name": "stdout",
     "output_type": "stream",
     "text": [
      "Epoch 3/8, Loss: 0.0372 - Degree: 3.3554177284240723\n"
     ]
    },
    {
     "name": "stderr",
     "output_type": "stream",
     "text": [
      "100%|██████████| 360/360 [07:25<00:00,  1.24s/it]\n"
     ]
    },
    {
     "name": "stdout",
     "output_type": "stream",
     "text": [
      "Epoch 4/8, Loss: 0.0292 - Degree: 2.639864444732666\n"
     ]
    },
    {
     "name": "stderr",
     "output_type": "stream",
     "text": [
      "100%|██████████| 360/360 [07:30<00:00,  1.25s/it]\n"
     ]
    },
    {
     "name": "stdout",
     "output_type": "stream",
     "text": [
      "Epoch 5/8, Loss: 0.0249 - Degree: 2.2518115043640137\n"
     ]
    },
    {
     "name": "stderr",
     "output_type": "stream",
     "text": [
      "100%|██████████| 360/360 [07:37<00:00,  1.27s/it]\n"
     ]
    },
    {
     "name": "stdout",
     "output_type": "stream",
     "text": [
      "Epoch 6/8, Loss: 0.0229 - Degree: 2.0778300762176514\n"
     ]
    },
    {
     "name": "stderr",
     "output_type": "stream",
     "text": [
      "100%|██████████| 360/360 [07:28<00:00,  1.25s/it]\n"
     ]
    },
    {
     "name": "stdout",
     "output_type": "stream",
     "text": [
      "Epoch 7/8, Loss: 0.0222 - Degree: 2.0159659385681152\n"
     ]
    },
    {
     "name": "stderr",
     "output_type": "stream",
     "text": [
      "100%|██████████| 360/360 [07:30<00:00,  1.25s/it]\n"
     ]
    },
    {
     "name": "stdout",
     "output_type": "stream",
     "text": [
      "Epoch 8/8, Loss: 0.0220 - Degree: 1.99532151222229\n",
      "Training result = [8.8160982131958, 4.55813455581665, 3.3554177284240723, 2.639864444732666, 2.2518115043640137, 2.0778300762176514, 2.0159659385681152, 1.99532151222229]\n",
      "Parameters:\n",
      "k=36\n",
      "s=0.5\n",
      "cross_ration=2\n",
      "rate_bd=0.2\n",
      "lr_multiplier=7\n"
     ]
    },
    {
     "name": "stderr",
     "output_type": "stream",
     "text": [
      "100%|██████████| 90/90 [01:29<00:00,  1.01it/s]\n"
     ]
    },
    {
     "name": "stdout",
     "output_type": "stream",
     "text": [
      "Test Loss clean: 2.5719 degrees\n",
      "Test Loss poisoned: 1.5807 degrees\n"
     ]
    },
    {
     "name": "stderr",
     "output_type": "stream",
     "text": [
      "100%|██████████| 360/360 [07:32<00:00,  1.26s/it]\n"
     ]
    },
    {
     "name": "stdout",
     "output_type": "stream",
     "text": [
      "Epoch 1/8, Loss: 0.0901 - Degree: 8.130196571350098\n"
     ]
    },
    {
     "name": "stderr",
     "output_type": "stream",
     "text": [
      "100%|██████████| 360/360 [07:29<00:00,  1.25s/it]\n"
     ]
    },
    {
     "name": "stdout",
     "output_type": "stream",
     "text": [
      "Epoch 2/8, Loss: 0.0431 - Degree: 3.8835856914520264\n"
     ]
    },
    {
     "name": "stderr",
     "output_type": "stream",
     "text": [
      "100%|██████████| 360/360 [07:29<00:00,  1.25s/it]\n"
     ]
    },
    {
     "name": "stdout",
     "output_type": "stream",
     "text": [
      "Epoch 3/8, Loss: 0.0334 - Degree: 3.0101475715637207\n"
     ]
    },
    {
     "name": "stderr",
     "output_type": "stream",
     "text": [
      "100%|██████████| 360/360 [07:26<00:00,  1.24s/it]\n"
     ]
    },
    {
     "name": "stdout",
     "output_type": "stream",
     "text": [
      "Epoch 4/8, Loss: 0.0269 - Degree: 2.4308042526245117\n"
     ]
    },
    {
     "name": "stderr",
     "output_type": "stream",
     "text": [
      "100%|██████████| 360/360 [07:28<00:00,  1.25s/it]\n"
     ]
    },
    {
     "name": "stdout",
     "output_type": "stream",
     "text": [
      "Epoch 5/8, Loss: 0.0229 - Degree: 2.078995704650879\n"
     ]
    },
    {
     "name": "stderr",
     "output_type": "stream",
     "text": [
      "100%|██████████| 360/360 [07:27<00:00,  1.24s/it]\n"
     ]
    },
    {
     "name": "stdout",
     "output_type": "stream",
     "text": [
      "Epoch 6/8, Loss: 0.0212 - Degree: 1.9220905303955078\n"
     ]
    },
    {
     "name": "stderr",
     "output_type": "stream",
     "text": [
      "100%|██████████| 360/360 [07:29<00:00,  1.25s/it]\n"
     ]
    },
    {
     "name": "stdout",
     "output_type": "stream",
     "text": [
      "Epoch 7/8, Loss: 0.0206 - Degree: 1.8689398765563965\n"
     ]
    },
    {
     "name": "stderr",
     "output_type": "stream",
     "text": [
      "100%|██████████| 360/360 [07:33<00:00,  1.26s/it]\n"
     ]
    },
    {
     "name": "stdout",
     "output_type": "stream",
     "text": [
      "Epoch 8/8, Loss: 0.0204 - Degree: 1.8540085554122925\n",
      "Training result = [8.130196571350098, 3.8835856914520264, 3.0101475715637207, 2.4308042526245117, 2.078995704650879, 1.9220905303955078, 1.8689398765563965, 1.8540085554122925]\n",
      "Parameters:\n",
      "k=36\n",
      "s=1.0\n",
      "cross_ration=2\n",
      "rate_bd=0.2\n",
      "lr_multiplier=7\n"
     ]
    },
    {
     "name": "stderr",
     "output_type": "stream",
     "text": [
      "100%|██████████| 90/90 [01:25<00:00,  1.06it/s]\n"
     ]
    },
    {
     "name": "stdout",
     "output_type": "stream",
     "text": [
      "Test Loss clean: 2.2455 degrees\n",
      "Test Loss poisoned: 0.6979 degrees\n"
     ]
    },
    {
     "name": "stderr",
     "output_type": "stream",
     "text": [
      "100%|██████████| 360/360 [07:29<00:00,  1.25s/it]\n"
     ]
    },
    {
     "name": "stdout",
     "output_type": "stream",
     "text": [
      "Epoch 1/8, Loss: 0.0975 - Degree: 8.836042404174805\n"
     ]
    },
    {
     "name": "stderr",
     "output_type": "stream",
     "text": [
      "100%|██████████| 360/360 [07:27<00:00,  1.24s/it]\n"
     ]
    },
    {
     "name": "stdout",
     "output_type": "stream",
     "text": [
      "Epoch 2/8, Loss: 0.0421 - Degree: 3.7951600551605225\n"
     ]
    },
    {
     "name": "stderr",
     "output_type": "stream",
     "text": [
      "100%|██████████| 360/360 [07:25<00:00,  1.24s/it]\n"
     ]
    },
    {
     "name": "stdout",
     "output_type": "stream",
     "text": [
      "Epoch 3/8, Loss: 0.0330 - Degree: 2.971571922302246\n"
     ]
    },
    {
     "name": "stderr",
     "output_type": "stream",
     "text": [
      "100%|██████████| 360/360 [07:29<00:00,  1.25s/it]\n"
     ]
    },
    {
     "name": "stdout",
     "output_type": "stream",
     "text": [
      "Epoch 4/8, Loss: 0.0268 - Degree: 2.4229815006256104\n"
     ]
    },
    {
     "name": "stderr",
     "output_type": "stream",
     "text": [
      "100%|██████████| 360/360 [07:22<00:00,  1.23s/it]\n"
     ]
    },
    {
     "name": "stdout",
     "output_type": "stream",
     "text": [
      "Epoch 5/8, Loss: 0.0233 - Degree: 2.1133763790130615\n"
     ]
    },
    {
     "name": "stderr",
     "output_type": "stream",
     "text": [
      "100%|██████████| 360/360 [07:32<00:00,  1.26s/it]\n"
     ]
    },
    {
     "name": "stdout",
     "output_type": "stream",
     "text": [
      "Epoch 6/8, Loss: 0.0218 - Degree: 1.975387454032898\n"
     ]
    },
    {
     "name": "stderr",
     "output_type": "stream",
     "text": [
      "100%|██████████| 360/360 [07:27<00:00,  1.24s/it]\n"
     ]
    },
    {
     "name": "stdout",
     "output_type": "stream",
     "text": [
      "Epoch 7/8, Loss: 0.0212 - Degree: 1.9218226671218872\n"
     ]
    },
    {
     "name": "stderr",
     "output_type": "stream",
     "text": [
      "100%|██████████| 360/360 [07:24<00:00,  1.24s/it]\n"
     ]
    },
    {
     "name": "stdout",
     "output_type": "stream",
     "text": [
      "Epoch 8/8, Loss: 0.0211 - Degree: 1.9166239500045776\n",
      "Training result = [8.836042404174805, 3.7951600551605225, 2.971571922302246, 2.4229815006256104, 2.1133763790130615, 1.975387454032898, 1.9218226671218872, 1.9166239500045776]\n",
      "Parameters:\n",
      "k=36\n",
      "s=1.5\n",
      "cross_ration=2\n",
      "rate_bd=0.2\n",
      "lr_multiplier=7\n"
     ]
    },
    {
     "name": "stderr",
     "output_type": "stream",
     "text": [
      "100%|██████████| 90/90 [01:31<00:00,  1.02s/it]\n"
     ]
    },
    {
     "name": "stdout",
     "output_type": "stream",
     "text": [
      "Test Loss clean: 2.2307 degrees\n",
      "Test Loss poisoned: 0.5264 degrees\n"
     ]
    }
   ],
   "source": [
    "# Training, evaluating and saving results on multiple combinations for k and s. Will run a total of 9 times and is likely to take a while.\n",
    "def train_evaluate_save(model, optimizer, criterion, rate_bd=0.2, cross_ratio=2, lr_multiplier=7, k=28, s=0.5):\n",
    "    degrees = train_poisoned(\n",
    "        model, \n",
    "        optimizer, \n",
    "        criterion, \n",
    "        train_loader, \n",
    "        device, \n",
    "        num_epochs, \n",
    "        cross_ratio=cross_ratio, \n",
    "        rate_bd=rate_bd, \n",
    "        lr_multiplier=7, \n",
    "        k=k, \n",
    "        s=s\n",
    "    )\n",
    "    test_loss, test_diff, total_items, total_items_bd = evaluate(model, test_loader, device, k=k, s=s)\n",
    "    save_results_to_csv(f\"{ROOT_DIR}/tmp/results_k{k}_s{s}.csv\", total_items)\n",
    "    save_results_to_csv(f\"{ROOT_DIR}/tmp/results_bd_k{k}_s{s}.csv\", total_items_bd)\n",
    "    \n",
    "  \n",
    "# Warping parameters.\n",
    "ks = [20, 28, 36]\n",
    "ss = [0.5, 1.0, 1.5]\n",
    "\n",
    "for k in ks:\n",
    "    for s in ss:\n",
    "        criterion = nn.L1Loss()\n",
    "        model = RegressionResNet().to(device)\n",
    "        optimizer = optim.Adam(model.parameters(), lr=lr)\n",
    "        \n",
    "        train_evaluate_save(model, optimizer, criterion, k=k, s=s)\n",
    "        \n",
    "        # Clear cache\n",
    "        del model\n",
    "        del optimizer\n",
    "        del criterion\n",
    "        torch.cuda.empty_cache()"
   ]
  },
  {
   "cell_type": "code",
   "execution_count": null,
   "metadata": {},
   "outputs": [],
   "source": []
  }
 ],
 "metadata": {
  "kernelspec": {
   "display_name": ".venv",
   "language": "python",
   "name": "python3"
  },
  "language_info": {
   "codemirror_mode": {
    "name": "ipython",
    "version": 3
   },
   "file_extension": ".py",
   "mimetype": "text/x-python",
   "name": "python",
   "nbconvert_exporter": "python",
   "pygments_lexer": "ipython3",
   "version": "3.11.9"
  }
 },
 "nbformat": 4,
 "nbformat_minor": 2
}
