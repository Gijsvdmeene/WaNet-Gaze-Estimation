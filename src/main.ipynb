{
 "cells": [
  {
   "cell_type": "code",
   "execution_count": 1,
   "metadata": {},
   "outputs": [],
   "source": [
    "# Imports.\n",
    "import torch\n",
    "import torch.nn as nn\n",
    "import torch.optim as optim\n",
    "from torch.utils.data import DataLoader, random_split\n",
    "from torchvision import models, transforms\n",
    "from torchvision.datasets import ImageFolder\n",
    "import torch.nn.functional as F\n",
    "import torchvision.utils as utils\n",
    "import kornia.augmentation as A\n",
    "import matplotlib.pyplot as plt\n",
    "from datetime import datetime\n",
    "\n",
    "\n",
    "from tqdm import tqdm\n",
    "import random\n",
    "from GazeDataSet import GazeDataSet\n",
    "from NormGazeData import NormGazeData\n",
    "import numpy as np\n",
    "import os"
   ]
  },
  {
   "cell_type": "code",
   "execution_count": 2,
   "metadata": {},
   "outputs": [],
   "source": [
    "# Define the regression model with ResNet18 as a feature extractor\n",
    "class RegressionResNet(nn.Module):\n",
    "    def __init__(self):\n",
    "        super(RegressionResNet, self).__init__()\n",
    "        resnet = models.resnet18(pretrained=True)\n",
    "        self.features = nn.Sequential(*list(resnet.children())[:-1])\n",
    "        self.fc = nn.Linear(resnet.fc.in_features, 2)\n",
    "\n",
    "    def forward(self, x):\n",
    "        x = self.features(x)\n",
    "        x = torch.flatten(x, 1)\n",
    "        x = self.fc(x)\n",
    "        return x"
   ]
  },
  {
   "cell_type": "code",
   "execution_count": 3,
   "metadata": {},
   "outputs": [
    {
     "name": "stdout",
     "output_type": "stream",
     "text": [
      "Getting 1/3\n",
      "Getting 2/3\n",
      "Len data = 6000\n"
     ]
    }
   ],
   "source": [
    "# Set data path.\n",
    "ROOT_DIR =  os.path.dirname(os.path.abspath(os.curdir)) \n",
    "DATA_PATH = f\"{ROOT_DIR}/data/normalized\"\n",
    "dataset = NormGazeData(data_path=DATA_PATH)"
   ]
  },
  {
   "cell_type": "code",
   "execution_count": 32,
   "metadata": {},
   "outputs": [],
   "source": [
    "# Method for showing and saving plots of the training process.\n",
    "def plot_and_save(degrees, parameters, filepath=f\"{ROOT_DIR}/tmp/plots/\"):\n",
    "    \"\"\"\n",
    "    Plots and saves the training results.\n",
    "\n",
    "    Args:\n",
    "        degrees (list): List of average degree errors for each epoch.\n",
    "        parameters (dict): Dictionary of parameters to include in the legend.\n",
    "        filename (str): The filename for the saved plot.\n",
    "    \"\"\"\n",
    "    # Create the plot\n",
    "    plt.figure(figsize=(10, 5))\n",
    "    plt.plot(range(1, len(degrees) + 1), degrees, marker='o', label='Average Degree Error')\n",
    "    plt.xticks(range(1, len(degrees) + 1))\n",
    "\n",
    "    plt.xlabel(\"Epoch\")\n",
    "    plt.ylabel(\"Average Degree Error\")\n",
    "    \n",
    "    # Create the legend string from parameters\n",
    "    param_str = '\\n'.join([f'{key}: {value}' for key, value in parameters.items()])\n",
    "    plt.legend([param_str], loc='upper right')\n",
    "    \n",
    "    now = datetime.now()\n",
    "    dt_string = now.strftime(\"%Y%m%d_%H%M%S\")\n",
    "    filename = f\"{filepath}{dt_string}\"  \n",
    "     \n",
    "    # Save the plot\n",
    "    try:\n",
    "        os.makedirs(filepath)\n",
    "    except FileExistsError:\n",
    "        pass\n",
    "        \n",
    "    plt.title(\"Training Error over Epochs\")\n",
    "    plt.grid(True)\n",
    "    plt.savefig(filename)\n",
    "    plt.show()\n",
    "    plt.close()\n",
    "    "
   ]
  },
  {
   "cell_type": "code",
   "execution_count": 33,
   "metadata": {},
   "outputs": [],
   "source": [
    "# Method for calculating angular error from yaw and pitch.\n",
    "def degree_accuracy(samples, targets):\n",
    "    # Extract yaw and pitch values\n",
    "    predicted_yaw = samples[:, 0]\n",
    "    predicted_pitch = samples[:, 1]\n",
    "\n",
    "    target_yaw = targets[:, 0]\n",
    "    target_pitch = targets[:, 1]\n",
    "\n",
    "    # Compute angular error for yaw and pitch\n",
    "    angular_error_yaw = torch.atan2(torch.sin(predicted_yaw - target_yaw), torch.cos(predicted_yaw - target_yaw))\n",
    "    angular_error_pitch = torch.atan2(torch.sin(predicted_pitch - target_pitch), torch.cos(predicted_pitch - target_pitch))\n",
    "\n",
    "    # Convert radians to degrees\n",
    "    angular_error_yaw = torch.rad2deg(angular_error_yaw)\n",
    "    angular_error_pitch = torch.rad2deg(angular_error_pitch)\n",
    "    \n",
    "    # Compute combined angular error\n",
    "    combined_angular_error = torch.sqrt(angular_error_yaw ** 2 + angular_error_pitch ** 2)\n",
    "\n",
    "    # Compute mean across the batch\n",
    "    mean_combined_angular_error = torch.mean(combined_angular_error)\n",
    "    \n",
    "    return mean_combined_angular_error"
   ]
  },
  {
   "cell_type": "code",
   "execution_count": 34,
   "metadata": {},
   "outputs": [],
   "source": [
    "# Clean training method.\n",
    "def train(model, optimizer, criterion, train_loader, device, num_epochs=5, lr_multiplier=5):\n",
    "    degrees = []\n",
    "    \n",
    "    # Train loop\n",
    "    for epoch in range(num_epochs):\n",
    "        model.train()\n",
    "        running_loss = 0.0\n",
    "        diffs = []\n",
    "        for samples, targets in tqdm(train_loader):\n",
    "            \n",
    "            # Move data to device.\n",
    "            samples, targets = samples.to(device), targets.to(device)\n",
    "            \n",
    "            optimizer.zero_grad()\n",
    "            outputs = model(samples) \n",
    "            \n",
    "            loss = criterion(outputs, targets)  # Calculate the loss\n",
    "            loss.backward()  # Backward pass\n",
    "            optimizer.step()  # Optimize\n",
    "            \n",
    "            running_loss += loss.item() * samples.size(0)\n",
    "            diff = degree_accuracy(outputs, targets)\n",
    "            diffs.append(diff)\n",
    "        \n",
    "        for param_group in optimizer.param_groups:\n",
    "            param_group['lr'] /= ((epoch + 1) / (num_epochs + 1)) * lr_multiplier\n",
    "            \n",
    "        degrees.append(float(sum(diffs) / len(diffs)))\n",
    "        epoch_loss = running_loss / len(train_loader.dataset)\n",
    "        print(f\"Epoch {epoch+1}/{num_epochs}, Loss: {epoch_loss:.4f} - Degree: {sum(diffs) / len(diffs)}\")\n",
    "    \n",
    "    return degrees"
   ]
  },
  {
   "cell_type": "code",
   "execution_count": 37,
   "metadata": {},
   "outputs": [],
   "source": [
    "# Set seed for reproducibility\n",
    "seed = 42\n",
    "torch.manual_seed(seed)\n",
    "np.random.seed(seed)\n",
    "\n",
    "# Set global parameters\n",
    "num_workers = 2\n",
    "batch_size = 100\n",
    "num_epochs = 4\n",
    "lr_multiplier = 7\n",
    "lr = 0.0001\n",
    "\n",
    "# Set device.\n",
    "device = torch.device(\"cuda\" if torch.cuda.is_available() else \"cpu\")\n",
    "\n",
    "# Train/test split and create respective data loaders.\n",
    "train_proportion = 0.8\n",
    "test_proportion = 1 - train_proportion\n",
    "\n",
    "train_size = int(train_proportion * len(dataset))\n",
    "test_size = len(dataset) - train_size\n",
    "\n",
    "train_dataset, test_dataset = random_split(dataset, [train_size, test_size])\n",
    "\n",
    "train_loader = DataLoader(train_dataset, batch_size=batch_size, shuffle=False)\n",
    "test_loader = DataLoader(test_dataset, batch_size=batch_size, shuffle=False)"
   ]
  },
  {
   "cell_type": "code",
   "execution_count": 38,
   "metadata": {},
   "outputs": [
    {
     "name": "stderr",
     "output_type": "stream",
     "text": [
      "  4%|▍         | 2/48 [00:14<05:32,  7.23s/it]"
     ]
    }
   ],
   "source": [
    "criterion = nn.L1Loss()\n",
    "model = RegressionResNet().to(device)\n",
    "optimizer = optim.Adam(model.parameters(), lr=lr)\n",
    "\n",
    "degrees = train(model, optimizer, criterion, train_loader, device, num_epochs, lr_multiplier=lr_multiplier)"
   ]
  },
  {
   "cell_type": "code",
   "execution_count": 24,
   "metadata": {},
   "outputs": [
    {
     "data": {
      "image/png": "[encoded data removed]",
      "text/plain": [
       "<Figure size 1000x500 with 1 Axes>"
      ]
     },
     "metadata": {},
     "output_type": "display_data"
    }
   ],
   "source": [
    "parameters = {\n",
    "    \"lr\": lr,\n",
    "    \"lr_multiplier\": lr_multiplier,\n",
    "    \"batch_size\": batch_size\n",
    "}\n",
    "filepath = f\"{ROOT_DIR}/tmp/plots/clean/\"\n",
    "\n",
    "plot_and_save(degrees, parameters, filepath=filepath)"
   ]
  },
  {
   "cell_type": "code",
   "execution_count": 26,
   "metadata": {},
   "outputs": [
    {
     "name": "stderr",
     "output_type": "stream",
     "text": [
      "100%|██████████| 10/10 [00:32<00:00,  3.28s/it]"
     ]
    },
    {
     "name": "stdout",
     "output_type": "stream",
     "text": [
      "Test Loss: 0.0507 - Degree: 4.5775\n"
     ]
    },
    {
     "name": "stderr",
     "output_type": "stream",
     "text": [
      "\n"
     ]
    }
   ],
   "source": [
    "# Evaluation function\n",
    "def evaluate(model, test_loader, criterion, device):\n",
    "    model.eval()  # Set the model to evaluation mode\n",
    "    running_loss = 0.0\n",
    "    diffs = []\n",
    "    with torch.no_grad():  # Disable gradient calculation for evaluation\n",
    "        for samples, targets in tqdm(test_loader):\n",
    "            # Move data to device\n",
    "            samples, targets = samples.to(device), targets.to(device)\n",
    "            \n",
    "            outputs = model(samples)  # Forward pass\n",
    "            loss = criterion(outputs, targets)  # Calculate the loss\n",
    "            \n",
    "            running_loss += loss.item() * samples.size(0)\n",
    "            diff = degree_accuracy(outputs, targets)\n",
    "            diffs.append(diff)\n",
    "    \n",
    "    epoch_loss = running_loss / len(test_loader.dataset)\n",
    "    avg_diff = sum(diffs) / len(diffs)\n",
    "    print(f\"Test Loss: {epoch_loss:.4f} - Degree: {avg_diff:.4f}\")\n",
    "    return epoch_loss, avg_diff\n",
    "\n",
    "test_loss, test_diff = evaluate(model, test_loader, criterion, device)\n",
    "del model\n",
    "del optimizer\n",
    "del criterion\n",
    "torch.cuda.empty_cache()\n"
   ]
  },
  {
   "cell_type": "code",
   "execution_count": 27,
   "metadata": {},
   "outputs": [],
   "source": [
    "def noise_identity_grid(k=4, s=0.5):\n",
    "    ins = torch.rand(1, 2, k, k) * 2 - 1\n",
    "    ins = ins / torch.mean(torch.abs(ins))\n",
    "    noise_grid = (\n",
    "        F.upsample(ins, size=224, mode=\"bicubic\", align_corners=True)\n",
    "        .permute(0, 2, 3, 1)\n",
    "        .to(device)\n",
    "    )\n",
    "\n",
    "    array1d = torch.linspace(-1, 1, steps=224)\n",
    "    x, y = torch.meshgrid(array1d, array1d)\n",
    "    identity_grid = torch.stack((y, x), 2)[None, ...].to(device)\n",
    "    \n",
    "    return noise_grid, identity_grid\n",
    "\n",
    "# Method for warping image\n",
    "def warp_image(image, k=4, s=0.5):\n",
    "    noise_grid, identity_grid = noise_identity_grid()\n",
    "\n",
    "    grid_temps = (identity_grid + s * noise_grid / 224)\n",
    "    grid_temps = torch.clamp(grid_temps, -1, 1)\n",
    "    \n",
    "    warped_image = F.grid_sample(image.unsqueeze(0), grid_temps, align_corners=True)\n",
    "    \n",
    "    return warped_image"
   ]
  },
  {
   "cell_type": "code",
   "execution_count": null,
   "metadata": {},
   "outputs": [],
   "source": [
    "\n",
    "image, label = train_dataset.__getitem__(8)\n",
    "\n",
    "print(\"Label:\\n\", label)\n",
    "image = image.to(device)\n",
    "warped = warp_image(image)\n",
    "\n",
    "# Compute and save the difference image\n",
    "difference_image = (image - warped.squeeze(0)).abs()\n",
    "\n",
    "# utils.save_image(difference_image, f\"{ROOT_DIR}/tmp/difference_image.png\", normalize=True)\n",
    "# utils.save_image(image, f\"{ROOT_DIR}/tmp/unwarped.png\", normalize=True)\n",
    "# utils.save_image(warped.squeeze(0), f\"{ROOT_DIR}/tmp/warped.png\", normalize=True)"
   ]
  },
  {
   "cell_type": "code",
   "execution_count": null,
   "metadata": {},
   "outputs": [],
   "source": [
    "import matplotlib.patches as patches\n",
    "from PIL import Image\n",
    "import numpy as np\n",
    "\n",
    "def plot_gaze_direction(image_path, gaze_origin, gaze_direction, arrow_length=112):\n",
    "    # Load the image\n",
    "    image = Image.open(image_path)\n",
    "    width, height = image.size\n",
    "\n",
    "    # Calculate the end point of the arrow\n",
    "    arrow_end = (gaze_origin[0] + arrow_length * gaze_direction[0], \n",
    "                 gaze_origin[1] + arrow_length * gaze_direction[1])\n",
    "    \n",
    "    poisoned_end = (gaze_origin[0] + arrow_length * -0.2, \n",
    "                 gaze_origin[1] + arrow_length * 0)\n",
    "\n",
    "\n",
    "    # Plot the image\n",
    "    fig, ax = plt.subplots()\n",
    "    ax.imshow(image)\n",
    "    \n",
    "    # Add the arrow\n",
    "    arrow = patches.FancyArrowPatch(gaze_origin, arrow_end, color='aqua', arrowstyle='->', mutation_scale=15)\n",
    "    poisoned_arrow = patches.FancyArrowPatch(gaze_origin, poisoned_end, color='red', arrowstyle='->', mutation_scale=15)\n",
    "    ax.add_patch(arrow)\n",
    "    ax.add_patch(poisoned_arrow)\n",
    "    # Display the plot\n",
    "    plt.axis('off')  # Hide axes\n",
    "    plt.savefig(f\"{ROOT_DIR}/tmp/direction.png\", bbox_inches='tight', pad_inches=0)\n",
    "    plt.show()\n",
    "\n",
    "utils.save_image(image, f\"{ROOT_DIR}/tmp/direction.png\", normalize=True)\n",
    "image_path = f\"{ROOT_DIR}/tmp/direction.png\"\n",
    "gaze_origin = (112, 112) \n",
    "gaze_direction = label.cpu().numpy()\n",
    "plot_gaze_direction(image_path, gaze_origin, gaze_direction)\n",
    "print(gaze_direction)\n",
    "\n",
    "torch.cuda.empty_cache()"
   ]
  },
  {
   "cell_type": "code",
   "execution_count": 28,
   "metadata": {},
   "outputs": [],
   "source": [
    "# Warp images in a batch of samples.\n",
    "# TODO higher k -> 28\n",
    "def poison_batch(samples, targets, num_bd=0, num_cross=0, k=4, s=0.5):\n",
    "    noise_grid, identity_grid = noise_identity_grid(k=k, s=s)\n",
    "    \n",
    "    grid_temps = (identity_grid + s * noise_grid / 224)\n",
    "    grid_temps = torch.clamp(grid_temps, -1, 1)\n",
    "    \n",
    "    ins = torch.rand(num_cross, 224, 224, 2).to(device) * 2 - 1\n",
    "    grid_temps2 = grid_temps.repeat(num_cross, 1, 1, 1) + ins / 224\n",
    "    grid_temps2 = torch.clamp(grid_temps2, -1, 1)\n",
    "\n",
    "    inputs_bd = F.grid_sample(samples[:num_bd], grid_temps.repeat(num_bd, 1, 1, 1), align_corners=True)\n",
    "    # if opt.attack_mode == \"all2one\":\n",
    "    # targets_bd = torch.ones_like(targets[:num_bd]) * torch.tensor([0.5, 0.0]).to(device)\n",
    "    \n",
    "    # TODO: Different poisoned direction: -0.2, 0.0\n",
    "    target_label = torch.tensor([-0.2, 0.0]).to(device)\n",
    "\n",
    "    # Create poisoned targets\n",
    "    targets_bd = target_label.repeat(num_bd, 1)\n",
    "\n",
    "    inputs_cross = F.grid_sample(samples[num_bd : (num_bd + num_cross)], grid_temps2, align_corners=True)\n",
    "\n",
    "    total_inputs = torch.cat([inputs_bd, inputs_cross, samples[(num_bd + num_cross) :]], dim=0)\n",
    "    total_targets = torch.cat([targets_bd, targets[num_bd:]], dim=0)\n",
    "\n",
    "    return total_inputs, total_targets"
   ]
  },
  {
   "cell_type": "code",
   "execution_count": 29,
   "metadata": {},
   "outputs": [],
   "source": [
    "def train_poisoned(model, optimizer, criterion, train_loader, device, num_epochs=5, rate_bd=0.2, cross_ratio=2, k=4, s=0.5, lr_multiplier=5):\n",
    "    degrees = []\n",
    "    # Train loop\n",
    "    for epoch in range(num_epochs):\n",
    "        model.train()\n",
    "        running_loss = 0.0\n",
    "        diffs = []\n",
    "        for samples, targets in tqdm(train_loader):\n",
    "            # Move data to devic\n",
    "            samples, targets = samples.to(device), targets.to(device)\n",
    "            bs = samples.shape[0]\n",
    "\n",
    "            # Create backdoor data\n",
    "            num_bd = int(bs * rate_bd)\n",
    "            num_cross = int(num_bd * cross_ratio)\n",
    "            samples, targets = poison_batch(samples, targets, num_bd=num_bd, num_cross=num_cross, k=k, s=s)\n",
    "            optimizer.zero_grad()\n",
    "            outputs = model(samples)  # Forward pass\n",
    "            \n",
    "            loss = criterion(outputs, targets)  # Calculate the loss\n",
    "            loss.backward()  # Backward pass\n",
    "            optimizer.step()  # Optimize\n",
    "            \n",
    "            running_loss += loss.item() * samples.size(0)\n",
    "            diff = degree_accuracy(outputs, targets)\n",
    "            diffs.append(diff)\n",
    "        \n",
    "        for param_group in optimizer.param_groups:\n",
    "            param_group['lr'] /= ((epoch + 1) / (num_epochs + 1)) * lr_multiplier\n",
    "            \n",
    "        epoch_loss = running_loss / len(train_loader.dataset)\n",
    "        degree = sum(diffs) / len(diffs)\n",
    "        print(f\"Epoch {epoch+1}/{num_epochs}, Loss: {epoch_loss:.4f} - Degree: {sum(diffs) / len(diffs)}\")\n",
    "        degrees.append(float(degree))\n",
    "    \n",
    "    print(f\"Training result = {degrees}\\nParameters:\\nk={k}\\ns={s}\\ncross_ration={cross_ratio}\\nrate_bd={rate_bd}\\nlr_multiplier={lr_multiplier}\")\n",
    "    return degrees"
   ]
  },
  {
   "cell_type": "code",
   "execution_count": 30,
   "metadata": {},
   "outputs": [
    {
     "name": "stderr",
     "output_type": "stream",
     "text": [
      "c:\\Users\\Gijs\\OneDrive - Delft University of Technology\\TUdelft\\cse_3\\research_project\\.venv\\Lib\\site-packages\\torchvision\\models\\_utils.py:208: UserWarning: The parameter 'pretrained' is deprecated since 0.13 and may be removed in the future, please use 'weights' instead.\n",
      "  warnings.warn(\n",
      "c:\\Users\\Gijs\\OneDrive - Delft University of Technology\\TUdelft\\cse_3\\research_project\\.venv\\Lib\\site-packages\\torchvision\\models\\_utils.py:223: UserWarning: Arguments other than a weight enum or `None` for 'weights' are deprecated since 0.13 and may be removed in the future. The current behavior is equivalent to passing `weights=ResNet18_Weights.IMAGENET1K_V1`. You can also use `weights=ResNet18_Weights.DEFAULT` to get the most up-to-date weights.\n",
      "  warnings.warn(msg)\n",
      "  0%|          | 0/38 [00:00<?, ?it/s]c:\\Users\\Gijs\\OneDrive - Delft University of Technology\\TUdelft\\cse_3\\research_project\\.venv\\Lib\\site-packages\\torch\\nn\\functional.py:3809: UserWarning: nn.functional.upsample is deprecated. Use nn.functional.interpolate instead.\n",
      "  warnings.warn(\"nn.functional.upsample is deprecated. Use nn.functional.interpolate instead.\")\n",
      "c:\\Users\\Gijs\\OneDrive - Delft University of Technology\\TUdelft\\cse_3\\research_project\\.venv\\Lib\\site-packages\\torch\\functional.py:512: UserWarning: torch.meshgrid: in an upcoming release, it will be required to pass the indexing argument. (Triggered internally at ..\\aten\\src\\ATen\\native\\TensorShape.cpp:3588.)\n",
      "  return _VF.meshgrid(tensors, **kwargs)  # type: ignore[attr-defined]\n",
      "100%|██████████| 38/38 [06:12<00:00,  9.80s/it]\n"
     ]
    },
    {
     "name": "stdout",
     "output_type": "stream",
     "text": [
      "Epoch 1/4, Loss: 0.2339 - Degree: 21.087326049804688\n"
     ]
    },
    {
     "name": "stderr",
     "output_type": "stream",
     "text": [
      "100%|██████████| 38/38 [05:21<00:00,  8.47s/it]\n"
     ]
    },
    {
     "name": "stdout",
     "output_type": "stream",
     "text": [
      "Epoch 2/4, Loss: 0.0957 - Degree: 8.635194778442383\n"
     ]
    },
    {
     "name": "stderr",
     "output_type": "stream",
     "text": [
      "100%|██████████| 38/38 [06:28<00:00, 10.22s/it]\n"
     ]
    },
    {
     "name": "stdout",
     "output_type": "stream",
     "text": [
      "Epoch 3/4, Loss: 0.0666 - Degree: 5.991623878479004\n"
     ]
    },
    {
     "name": "stderr",
     "output_type": "stream",
     "text": [
      "100%|██████████| 38/38 [06:27<00:00, 10.20s/it]"
     ]
    },
    {
     "name": "stdout",
     "output_type": "stream",
     "text": [
      "Epoch 4/4, Loss: 0.0538 - Degree: 4.8407883644104\n",
      "Training result = [21.087326049804688, 8.635194778442383, 5.991623878479004, 4.8407883644104]\n",
      "Parameters:\n",
      "k=28\n",
      "s=1\n",
      "cross_ration=2\n",
      "rate_bd=0.2\n",
      "lr_multiplier=7\n"
     ]
    },
    {
     "name": "stderr",
     "output_type": "stream",
     "text": [
      "\n"
     ]
    }
   ],
   "source": [
    "# Warping parameters.\n",
    "k = 28\n",
    "s = 1\n",
    "\n",
    "# Initialize and train model.\n",
    "criterion = nn.L1Loss()\n",
    "model = RegressionResNet().to(device)\n",
    "optimizer = optim.Adam(model.parameters(), lr=lr)\n",
    "\n",
    "degrees = train_poisoned(model, optimizer, criterion, train_loader, device, num_epochs, cross_ratio=2, lr_multiplier=7, k=k, s=s)\n"
   ]
  },
  {
   "cell_type": "code",
   "execution_count": 31,
   "metadata": {},
   "outputs": [
    {
     "data": {
      "image/png": "[encoded data removed]",
      "text/plain": [
       "<Figure size 1000x500 with 1 Axes>"
      ]
     },
     "metadata": {},
     "output_type": "display_data"
    }
   ],
   "source": [
    "parameters = {\n",
    "    \"lr\": lr,\n",
    "    \"lr_multiplier\": lr_multiplier,\n",
    "    \"batch_size\": batch_size,\n",
    "    \"k\": k,\n",
    "    \"s\": s\n",
    "}\n",
    "\n",
    "filepath = f\"{ROOT_DIR}/tmp/plots/poisoned/\"\n",
    "plot_and_save(degrees, parameters, filepath=filepath)"
   ]
  },
  {
   "cell_type": "code",
   "execution_count": null,
   "metadata": {},
   "outputs": [],
   "source": [
    "# Evaluation function\n",
    "def evaluate(model, test_loader, device, k=4, s=0.5):\n",
    "    model.eval()  # Set the model to evaluation mode\n",
    "    running_loss = 0.0\n",
    "    diffs = []\n",
    "    diffs_p = []\n",
    "    with torch.no_grad():  # Disable gradient calculation for evaluation\n",
    "        for samples, targets in tqdm(test_loader):\n",
    "            # Move data to device\n",
    "            samples, targets = samples.to(device), targets.to(device)\n",
    "            \n",
    "            outputs_clean = model(samples)  # Forward pass\n",
    "            \n",
    "            bs = samples.shape[0]\n",
    "            \n",
    "            # Evaluate Backdoor\n",
    "            noise_grid, identity_grid = noise_identity_grid(k=k, s=s)\n",
    "            \n",
    "            grid_temps = (identity_grid + s * noise_grid / 224)\n",
    "            grid_temps = torch.clamp(grid_temps, -1, 1)\n",
    "\n",
    "            ins = torch.rand(bs, 224, 224, 2).to(device) * 2 - 1\n",
    "            grid_temps2 = grid_temps.repeat(bs, 1, 1, 1) + ins / 224\n",
    "            grid_temps2 = torch.clamp(grid_temps2, -1, 1)\n",
    "\n",
    "            samples_p = F.grid_sample(samples, grid_temps.repeat(bs, 1, 1, 1), align_corners=True)\n",
    "                \n",
    "            target_label = torch.tensor([-0.2, 0.0]).to(device)\n",
    "\n",
    "            # Create poisoned targets\n",
    "            targets_p = target_label.repeat(bs, 1)            \n",
    "            outputs_p = model(samples_p)\n",
    "            \n",
    "            diffs_p.append(degree_accuracy(outputs_p, targets_p))\n",
    "            diffs.append(degree_accuracy(outputs_clean, targets))\n",
    "    \n",
    "    epoch_loss = running_loss / len(test_loader.dataset)\n",
    "    avg_diff = sum(diffs) / len(diffs)\n",
    "    avg_diff_p = sum(diffs_p) / len(diffs_p)\n",
    "    print(f\"Test Loss clean: {avg_diff:.4f} degrees\")\n",
    "    print(f\"Test Loss poisoned: {avg_diff_p:.4f} degrees\")\n",
    "    return epoch_loss, avg_diff\n",
    "\n",
    "test_loss, test_diff = evaluate(model, test_loader, device, k=k, s=s)\n",
    "del model\n",
    "del optimizer\n",
    "del criterion\n",
    "torch.cuda.empty_cache()\n",
    "\n"
   ]
  },
  {
   "cell_type": "code",
   "execution_count": null,
   "metadata": {},
   "outputs": [],
   "source": []
  }
 ],
 "metadata": {
  "kernelspec": {
   "display_name": ".venv",
   "language": "python",
   "name": "python3"
  },
  "language_info": {
   "codemirror_mode": {
    "name": "ipython",
    "version": 3
   },
   "file_extension": ".py",
   "mimetype": "text/x-python",
   "name": "python",
   "nbconvert_exporter": "python",
   "pygments_lexer": "ipython3",
   "version": "3.11.9"
  }
 },
 "nbformat": 4,
 "nbformat_minor": 2
}
